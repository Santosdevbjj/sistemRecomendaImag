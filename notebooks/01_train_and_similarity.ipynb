# ---
# title: "Treinamento e Sistema de Similaridade por Imagens"
# author: "Sérgio Santos"
# description: "Treina modelo de embeddings, extrai vetores e faz teste de similaridade"
# ---

# 🛠️ Preparação do ambiente
!pip install torch torchvision faiss-cpu matplotlib

import os
import numpy as np
import torch
import faiss
import matplotlib.pyplot as plt
from PIL import Image

# Importando módulos do repositório
import sys
sys.path.append("/content/sistemRecomendaImag/src/models")

from train import train_model
from embedding_model import EmbeddingModel

# ⚡ Treinar modelo
# Isso pode demorar dependendo do dataset
train_model() 


DEVICE = torch.device("cuda" if torch.cuda.is_available() else "cpu")

# Inicializar modelo
model = EmbeddingModel(backbone="resnet50").to(DEVICE)
model.load_state_dict(torch.load("data/models/embedding_model.pth", map_location=DEVICE))
model.eval()

print("✅ Modelo carregado!") 

# Caminho para algumas imagens de teste (ajuste para seu dataset)
img1 = "data/processed/cat/cat.1.jpg"
img2 = "data/processed/cat/cat.2.jpg"
img3 = "data/processed/dog/dog.1.jpg"

emb1 = model.get_embedding(img1, device=DEVICE)
emb2 = model.get_embedding(img2, device=DEVICE)
emb3 = model.get_embedding(img3, device=DEVICE)

print("Embeddings extraídos:", emb1.shape, emb2.shape, emb3.shape) 


# Criando índice FAISS
dimension = emb1.shape[1]
index = faiss.IndexFlatL2(dimension)

# Adicionando embeddings (imagens conhecidas)
embeddings = np.vstack([emb1, emb2, emb3])
index.add(embeddings)

print("📂 Total de embeddings no índice:", index.ntotal)



# Consulta por similaridade
D, I = index.search(emb1, k=3)  # busca top-3
print("🔎 Distâncias:", D)
print("📌 Índices mais próximos:", I) 



def show_images(img_paths, title="Imagens"):
    plt.figure(figsize=(10, 4))
    for i, path in enumerate(img_paths):
        plt.subplot(1, len(img_paths), i+1)
        img = Image.open(path)
        plt.imshow(img)
        plt.axis("off")
    plt.suptitle(title)
    plt.show()

# Mostrar imagem de consulta e vizinhos
query_img = img1
neighbors = [img1, img2, img3]  # simulando top-k retornados

show_images([query_img], title="🔎 Consulta")
show_images(neighbors, title="👥 Resultados mais similares") 






