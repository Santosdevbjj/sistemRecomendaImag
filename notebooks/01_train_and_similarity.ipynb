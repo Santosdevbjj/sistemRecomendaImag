# ---
# title: "Treinamento e Sistema de Similaridade por Imagens"
# author: "Sérgio Santos"
# description: "Treina modelo de embeddings, extrai vetores e faz teste de similaridade"
# ---

# 🛠️ Preparação do ambiente
!pip install torch torchvision faiss-cpu matplotlib

import os
import numpy as np
import torch
import faiss
import matplotlib.pyplot as plt
from PIL import Image

# Importando módulos do repositório
import sys
sys.path.append("/content/sistemRecomendaImag/src/models")

from train import train_model
from embedding_model import EmbeddingModel
