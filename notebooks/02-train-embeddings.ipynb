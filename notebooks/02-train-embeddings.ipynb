{
 "cells": [
  {
   "cell_type": "markdown",
   "metadata": {},
   "source": [
    "# Notebook 02 — Treinamento de Embeddings\n",
    "Usa um backbone pré-treinado para extrair embeddings normalizados de imagens."
   ]
  },
  {
   "cell_type": "code",
   "execution_count": null,
   "metadata": {},
   "outputs": [],
   "source": [
    "import torch\n",
    "from src.models.embedding_model import EmbeddingNet\n",
    "from src.features.extractor import extract_embeddings\n",
    "import os\n",
    "\n",
    "DATA_DIR = '../data/samples'\n",
    "device = 'cuda' if torch.cuda.is_available() else 'cpu'\n",
    "model = EmbeddingNet(backbone_name='resnet18', embedding_size=128, pretrained=True).to(device)"
   ]
  },
  {
   "cell_type": "code",
   "execution_count": null,
   "metadata": {},
   "outputs": [],
   "source": [
    "embeddings, paths = extract_embeddings(model, DATA_DIR, batch_size=16, device=device)\n",
    "print('Embeddings shape:', embeddings.shape)"
   ]
  },
  {
   "cell_type": "code",
   "execution_count": null,
   "metadata": {},
   "outputs": [],
   "source": [
    "from src.recommender.index import FaissRecommender\n",
    "rec = FaissRecommender(dim=embeddings.shape[1])\n",
    "rec.build(embeddings, paths)\n",
    "rec.save('../data/processed/index')"
   ]
  }
 ],
 "metadata": {
  "kernelspec": {"display_name": "Python 3", "language": "python", "name": "python3"},
  "language_info": {"name": "python", "version": "3.9"}
 },
 "nbformat": 4,
 "nbformat_minor": 2
}
