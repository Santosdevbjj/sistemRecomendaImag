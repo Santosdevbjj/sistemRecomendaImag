# ---
# title: "Inferência via API FastAPI"
# author: "Sérgio Santos"
# description: "Consumindo o sistema de recomendação por imagens através da API"
# ---

# 🛠️ Instalar dependências
!pip install requests matplotlib Pillow 

# ⚡ Subir containers (executar no ambiente local ou Colab com permissões de Docker)
# No Colab puro não funciona sem hacks, mas no ambiente local vai rodar liso.
!docker-compose up -d --build 


import requests

API_URL = "http://localhost:8000"

try:
    r = requests.get(f"{API_URL}/docs")
    if r.status_code == 200:
        print("✅ API está rodando:", r.url)
    else:
        print("⚠️ Erro ao acessar API:", r.status_code)
except Exception as e:
    print("❌ Não foi possível conectar:", e) 


import json

img_path = "data/processed/cat/cat.1.jpg"

files = {"file": open(img_path, "rb")}
response = requests.post(f"{API_URL}/recommend", files=files)

if response.status_code == 200:
    result = response.json()
    print("🔎 Recomendação recebida:", json.dumps(result, indent=2))
else:
    print("⚠️ Erro:", response.text) 



import matplotlib.pyplot as plt
from PIL import Image

def show_images(img_paths, title="Resultados"):
    plt.figure(figsize=(10, 4))
    for i, path in enumerate(img_paths):
        plt.subplot(1, len(img_paths), i+1)
        img = Image.open(path)
        plt.imshow(img)
        plt.axis("off")
    plt.suptitle(title)
    plt.show()

# Exibir imagens similares retornadas pela API
if response.status_code == 200:
    neighbors = result.get("neighbors", [])
    show_images([img_path] + neighbors, title="🔎 Consulta e Recomendações"). 




# Encerrar containers
!docker-compose down 





