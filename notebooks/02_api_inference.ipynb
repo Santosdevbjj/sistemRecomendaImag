import sys
sys.path.append("/content/src")

import requests
from utils.viz import show_similar_images
from utils.io import list_images, load_image

API_URL = "http://localhost:8000/recommend"  # ajustar se necessário 


test_image = list_images("/content/data/processed/cat")[0]
print("Imagem escolhida:", test_image) 


with open(test_image, "rb") as f:
    files = {"file": f}
    response = requests.post(API_URL, files=files)

if response.status_code == 200:
    data = response.json()
    print("Vizinhos retornados:", data["neighbors"])
else:
    print("Erro na API:", response.status_code) 


neighbors = data["neighbors"]
show_similar_images(test_image, neighbors) 

