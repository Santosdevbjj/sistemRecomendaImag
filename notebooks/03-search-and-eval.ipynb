{
 "cells": [
  {
   "cell_type": "markdown",
   "metadata": {},
   "source": [
    "# Notebook 03 — Busca e Avaliação\n",
    "Carrega índice Faiss salvo e realiza consultas de similaridade."
   ]
  },
  {
   "cell_type": "code",
   "execution_count": null,
   "metadata": {},
   "outputs": [],
   "source": [
    "from src.recommender.index import FaissRecommender\n",
    "import torch\n",
    "from src.models.embedding_model import EmbeddingNet\n",
    "from src.data.dataset import default_transform\n",
    "from PIL import Image\n",
    "import numpy as np\n",
    "\n",
    "rec = FaissRecommender(dim=128)\n",
    "rec.load('../data/processed/index')\n",
    "\n",
    "model = EmbeddingNet(backbone_name='resnet18', embedding_size=128, pretrained=True)\n",
    "model.eval()"
   ]
  },
  {
   "cell_type": "code",
   "execution_count": null,
   "metadata": {},
   "outputs": [],
   "source": [
    "img_path = '../data/samples/example.jpg'  # troque por imagem existente\n",
    "img = Image.open(img_path).convert('RGB')\n",
    "x = default_transform()(img).unsqueeze(0)\n",
    "with torch.no_grad():\n",
    "    emb = model(x)\n",
    "emb = emb.cpu().numpy()\n",
    "results = rec.search(emb, k=5)\n",
    "results"
   ]
  }
 ],
 "metadata": {
  "kernelspec": {"display_name": "Python 3", "language": "python", "name": "python3"},
  "language_info": {"name": "python", "version": "3.9"}
 },
 "nbformat": 4,
 "nbformat_minor": 2
}
